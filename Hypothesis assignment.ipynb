{
 "cells": [
  {
   "cell_type": "code",
   "execution_count": 39,
   "id": "d0eddb2f",
   "metadata": {},
   "outputs": [],
   "source": [
    "import pandas as pd\n",
    "import numpy as np"
   ]
  },
  {
   "cell_type": "markdown",
   "id": "6a9a22c1",
   "metadata": {},
   "source": [
    "# 1 Question\n",
    "     A F&B manager wants to determine whether there is any significant difference in the diameter of the cutlet between twounits.\n",
    "    A randomly selected sample of cutlets was collected from both units and measured? Analyze the data and \n",
    "    draw inferences at 5% significance level. \n",
    "    Please state the assumptions and tests that you carried out to check validity of the assumptions.\n"
   ]
  },
  {
   "cell_type": "markdown",
   "id": "57a28d1c",
   "metadata": {},
   "source": [
    "# step 1 : importing  the CSV File"
   ]
  },
  {
   "cell_type": "code",
   "execution_count": null,
   "id": "463529fb",
   "metadata": {},
   "outputs": [],
   "source": [
    "d1 = pd.read_csv(\"Cutlets.csv\")\n",
    "d1"
   ]
  },
  {
   "cell_type": "code",
   "execution_count": null,
   "id": "02ce9594",
   "metadata": {},
   "outputs": [],
   "source": [
    "#Let Us assume the the NULL HYpotheses(H0) and ALTERNATIVE Hypotheses(H1)"
   ]
  },
  {
   "cell_type": "code",
   "execution_count": null,
   "id": "a5ab9e0e",
   "metadata": {},
   "outputs": [],
   "source": [
    "H0 : unitA == unitB\n",
    "H1 : unitA != unitb"
   ]
  },
  {
   "cell_type": "code",
   "execution_count": null,
   "id": "855c25cd",
   "metadata": {},
   "outputs": [],
   "source": [
    "#from the above question we have to use the Two sample Z test"
   ]
  },
  {
   "cell_type": "code",
   "execution_count": null,
   "id": "1e5400fe",
   "metadata": {},
   "outputs": [],
   "source": [
    "from scipy import stats"
   ]
  },
  {
   "cell_type": "code",
   "execution_count": null,
   "id": "080a6e7a",
   "metadata": {},
   "outputs": [],
   "source": [
    "#Calcualte the Zcal,Pvalues"
   ]
  },
  {
   "cell_type": "code",
   "execution_count": null,
   "id": "169c2a16",
   "metadata": {},
   "outputs": [],
   "source": [
    "Zcal,pvalue = stats.ttest_ind(d1['Unit A'],d1['Unit B'])\n",
    "print(\"Z calculated value is\",Zcal.round(3))\n",
    "print(\"p value is\",pvalue.round(3))"
   ]
  },
  {
   "cell_type": "code",
   "execution_count": null,
   "id": "4c84b75f",
   "metadata": {},
   "outputs": [],
   "source": [
    "if pvalue<0.05:\n",
    "    print(\"H0 is rejected and H1 is accepted\")\n",
    "else:\n",
    "    print(\"H1 is rejected and H0 is accepted\")"
   ]
  },
  {
   "cell_type": "code",
   "execution_count": null,
   "id": "0c783ad5",
   "metadata": {},
   "outputs": [],
   "source": [
    "#conclusion : there is no significant difference in the diameter of the cutlet between two units,"
   ]
  },
  {
   "cell_type": "markdown",
   "id": "72fe469a",
   "metadata": {},
   "source": [
    "# 2Question\n",
    "\n",
    "A hospital wants to determine whether there is any difference in the average Turn Around Time (TAT) of reports of the laboratories on their preferred list. They collected a random sample and recorded TAT for reports of 4 laboratories. TAT is defined as sample collected to report dispatch.\n",
    "   \n",
    "  Analyze the data and determine whether there is any difference in average TAT among the different laboratories at 5% significance level\n"
   ]
  },
  {
   "cell_type": "code",
   "execution_count": 3,
   "id": "5d98b7c5",
   "metadata": {},
   "outputs": [
    {
     "data": {
      "application/javascript": [
       "\n",
       "        if (window._pyforest_update_imports_cell) { window._pyforest_update_imports_cell('import pandas as pd'); }\n",
       "    "
      ],
      "text/plain": [
       "<IPython.core.display.Javascript object>"
      ]
     },
     "metadata": {},
     "output_type": "display_data"
    },
    {
     "data": {
      "text/html": [
       "<div>\n",
       "<style scoped>\n",
       "    .dataframe tbody tr th:only-of-type {\n",
       "        vertical-align: middle;\n",
       "    }\n",
       "\n",
       "    .dataframe tbody tr th {\n",
       "        vertical-align: top;\n",
       "    }\n",
       "\n",
       "    .dataframe thead th {\n",
       "        text-align: right;\n",
       "    }\n",
       "</style>\n",
       "<table border=\"1\" class=\"dataframe\">\n",
       "  <thead>\n",
       "    <tr style=\"text-align: right;\">\n",
       "      <th></th>\n",
       "      <th>Laboratory 1</th>\n",
       "      <th>Laboratory 2</th>\n",
       "      <th>Laboratory 3</th>\n",
       "      <th>Laboratory 4</th>\n",
       "    </tr>\n",
       "  </thead>\n",
       "  <tbody>\n",
       "    <tr>\n",
       "      <th>0</th>\n",
       "      <td>185.35</td>\n",
       "      <td>165.53</td>\n",
       "      <td>176.70</td>\n",
       "      <td>166.13</td>\n",
       "    </tr>\n",
       "    <tr>\n",
       "      <th>1</th>\n",
       "      <td>170.49</td>\n",
       "      <td>185.91</td>\n",
       "      <td>198.45</td>\n",
       "      <td>160.79</td>\n",
       "    </tr>\n",
       "    <tr>\n",
       "      <th>2</th>\n",
       "      <td>192.77</td>\n",
       "      <td>194.92</td>\n",
       "      <td>201.23</td>\n",
       "      <td>185.18</td>\n",
       "    </tr>\n",
       "    <tr>\n",
       "      <th>3</th>\n",
       "      <td>177.33</td>\n",
       "      <td>183.00</td>\n",
       "      <td>199.61</td>\n",
       "      <td>176.42</td>\n",
       "    </tr>\n",
       "    <tr>\n",
       "      <th>4</th>\n",
       "      <td>193.41</td>\n",
       "      <td>169.57</td>\n",
       "      <td>204.63</td>\n",
       "      <td>152.60</td>\n",
       "    </tr>\n",
       "    <tr>\n",
       "      <th>...</th>\n",
       "      <td>...</td>\n",
       "      <td>...</td>\n",
       "      <td>...</td>\n",
       "      <td>...</td>\n",
       "    </tr>\n",
       "    <tr>\n",
       "      <th>115</th>\n",
       "      <td>178.49</td>\n",
       "      <td>170.66</td>\n",
       "      <td>193.80</td>\n",
       "      <td>172.68</td>\n",
       "    </tr>\n",
       "    <tr>\n",
       "      <th>116</th>\n",
       "      <td>176.08</td>\n",
       "      <td>183.98</td>\n",
       "      <td>215.25</td>\n",
       "      <td>177.64</td>\n",
       "    </tr>\n",
       "    <tr>\n",
       "      <th>117</th>\n",
       "      <td>202.48</td>\n",
       "      <td>174.54</td>\n",
       "      <td>203.99</td>\n",
       "      <td>170.27</td>\n",
       "    </tr>\n",
       "    <tr>\n",
       "      <th>118</th>\n",
       "      <td>182.40</td>\n",
       "      <td>197.18</td>\n",
       "      <td>194.52</td>\n",
       "      <td>150.87</td>\n",
       "    </tr>\n",
       "    <tr>\n",
       "      <th>119</th>\n",
       "      <td>182.09</td>\n",
       "      <td>215.17</td>\n",
       "      <td>221.49</td>\n",
       "      <td>162.21</td>\n",
       "    </tr>\n",
       "  </tbody>\n",
       "</table>\n",
       "<p>120 rows × 4 columns</p>\n",
       "</div>"
      ],
      "text/plain": [
       "     Laboratory 1  Laboratory 2  Laboratory 3  Laboratory 4\n",
       "0          185.35        165.53        176.70        166.13\n",
       "1          170.49        185.91        198.45        160.79\n",
       "2          192.77        194.92        201.23        185.18\n",
       "3          177.33        183.00        199.61        176.42\n",
       "4          193.41        169.57        204.63        152.60\n",
       "..            ...           ...           ...           ...\n",
       "115        178.49        170.66        193.80        172.68\n",
       "116        176.08        183.98        215.25        177.64\n",
       "117        202.48        174.54        203.99        170.27\n",
       "118        182.40        197.18        194.52        150.87\n",
       "119        182.09        215.17        221.49        162.21\n",
       "\n",
       "[120 rows x 4 columns]"
      ]
     },
     "execution_count": 3,
     "metadata": {},
     "output_type": "execute_result"
    }
   ],
   "source": [
    "d2 = pd.read_csv(\"LabTAT.csv\")\n",
    "d2"
   ]
  },
  {
   "cell_type": "code",
   "execution_count": null,
   "id": "3b273cd6",
   "metadata": {},
   "outputs": [],
   "source": [
    "#checking the means for the laboratories"
   ]
  },
  {
   "cell_type": "code",
   "execution_count": 8,
   "id": "a842b3be",
   "metadata": {},
   "outputs": [
    {
     "data": {
      "text/plain": [
       "178.36158333333339"
      ]
     },
     "execution_count": 8,
     "metadata": {},
     "output_type": "execute_result"
    }
   ],
   "source": [
    "L1 = d2['Laboratory 1'].mean()\n",
    "L1"
   ]
  },
  {
   "cell_type": "code",
   "execution_count": 9,
   "id": "93739106",
   "metadata": {},
   "outputs": [
    {
     "data": {
      "text/plain": [
       "178.9029166666668"
      ]
     },
     "execution_count": 9,
     "metadata": {},
     "output_type": "execute_result"
    }
   ],
   "source": [
    "L2 = d2['Laboratory 2'].mean()\n",
    "L2"
   ]
  },
  {
   "cell_type": "code",
   "execution_count": 10,
   "id": "f12d5422",
   "metadata": {},
   "outputs": [
    {
     "data": {
      "text/plain": [
       "199.91325000000003"
      ]
     },
     "execution_count": 10,
     "metadata": {},
     "output_type": "execute_result"
    }
   ],
   "source": [
    "L3 = d2['Laboratory 3'].mean()\n",
    "L3"
   ]
  },
  {
   "cell_type": "code",
   "execution_count": 11,
   "id": "ef1db9c5",
   "metadata": {},
   "outputs": [
    {
     "data": {
      "text/plain": [
       "163.6827499999999"
      ]
     },
     "execution_count": 11,
     "metadata": {},
     "output_type": "execute_result"
    }
   ],
   "source": [
    "L4 = d2['Laboratory 4'].mean()\n",
    "L4"
   ]
  },
  {
   "cell_type": "code",
   "execution_count": null,
   "id": "c320ac9e",
   "metadata": {},
   "outputs": [],
   "source": [
    "#From the above obsevation the mean of laboratories are different\n",
    "#So we have to use the ANOVA Test"
   ]
  },
  {
   "cell_type": "code",
   "execution_count": null,
   "id": "8fa28e9b",
   "metadata": {},
   "outputs": [],
   "source": [
    "#HO : L1 = L2 = L3 = L4\n",
    "#H1 : L1 !=L2........."
   ]
  },
  {
   "cell_type": "code",
   "execution_count": 34,
   "id": "3d342a07",
   "metadata": {},
   "outputs": [
    {
     "data": {
      "application/javascript": [
       "\n",
       "        if (window._pyforest_update_imports_cell) { window._pyforest_update_imports_cell('import pandas as pd\\nfrom scipy import stats'); }\n",
       "    "
      ],
      "text/plain": [
       "<IPython.core.display.Javascript object>"
      ]
     },
     "metadata": {},
     "output_type": "display_data"
    }
   ],
   "source": [
    "statistic, p_value = stats.f_oneway(d2[\"Laboratory 1\"],d2[\"Laboratory 2\"],d2[\"Laboratory 3\"],d2[\"Laboratory 4\"])\n"
   ]
  },
  {
   "cell_type": "code",
   "execution_count": 35,
   "id": "1e6377cb",
   "metadata": {},
   "outputs": [
    {
     "data": {
      "text/plain": [
       "118.70421654401437"
      ]
     },
     "execution_count": 35,
     "metadata": {},
     "output_type": "execute_result"
    }
   ],
   "source": [
    "statistic"
   ]
  },
  {
   "cell_type": "code",
   "execution_count": 36,
   "id": "a8ef095a",
   "metadata": {},
   "outputs": [
    {
     "data": {
      "text/plain": [
       "2.1156708949992414e-57"
      ]
     },
     "execution_count": 36,
     "metadata": {},
     "output_type": "execute_result"
    }
   ],
   "source": [
    "p_value\n"
   ]
  },
  {
   "cell_type": "code",
   "execution_count": 40,
   "id": "8a37485c",
   "metadata": {},
   "outputs": [
    {
     "name": "stdout",
     "output_type": "stream",
     "text": [
      "H0 is rejected and H1 is accepted\n"
     ]
    }
   ],
   "source": [
    "if p_value<0.05:\n",
    "    print(\"H0 is rejected and H1 is accepted\")\n",
    "else:\n",
    "    print(\"H1 is rejected and H0 is accepted\")"
   ]
  },
  {
   "cell_type": "code",
   "execution_count": null,
   "id": "0bb2ecd9",
   "metadata": {},
   "outputs": [],
   "source": [
    "#HO : L1 = L2 = L3 = L4\n",
    "#H1 : L1 !=L2.........(different) is accepted"
   ]
  },
  {
   "cell_type": "code",
   "execution_count": null,
   "id": "830c2cd8",
   "metadata": {},
   "outputs": [],
   "source": [
    "#Conclsion : As we can say that there is a difference in avearge TAT among the different laborartories"
   ]
  },
  {
   "cell_type": "markdown",
   "id": "db0ee232",
   "metadata": {},
   "source": [
    "# 3question\n"
   ]
  },
  {
   "cell_type": "code",
   "execution_count": null,
   "id": "19884917",
   "metadata": {},
   "outputs": [],
   "source": [
    "#importing the CSV file"
   ]
  },
  {
   "cell_type": "code",
   "execution_count": 41,
   "id": "d3947ed3",
   "metadata": {},
   "outputs": [
    {
     "data": {
      "text/html": [
       "<div>\n",
       "<style scoped>\n",
       "    .dataframe tbody tr th:only-of-type {\n",
       "        vertical-align: middle;\n",
       "    }\n",
       "\n",
       "    .dataframe tbody tr th {\n",
       "        vertical-align: top;\n",
       "    }\n",
       "\n",
       "    .dataframe thead th {\n",
       "        text-align: right;\n",
       "    }\n",
       "</style>\n",
       "<table border=\"1\" class=\"dataframe\">\n",
       "  <thead>\n",
       "    <tr style=\"text-align: right;\">\n",
       "      <th></th>\n",
       "      <th>Observed Values</th>\n",
       "      <th>East</th>\n",
       "      <th>West</th>\n",
       "      <th>North</th>\n",
       "      <th>South</th>\n",
       "    </tr>\n",
       "  </thead>\n",
       "  <tbody>\n",
       "    <tr>\n",
       "      <th>0</th>\n",
       "      <td>Males</td>\n",
       "      <td>50</td>\n",
       "      <td>142</td>\n",
       "      <td>131</td>\n",
       "      <td>70</td>\n",
       "    </tr>\n",
       "    <tr>\n",
       "      <th>1</th>\n",
       "      <td>Females</td>\n",
       "      <td>435</td>\n",
       "      <td>1523</td>\n",
       "      <td>1356</td>\n",
       "      <td>750</td>\n",
       "    </tr>\n",
       "  </tbody>\n",
       "</table>\n",
       "</div>"
      ],
      "text/plain": [
       "  Observed Values  East  West  North  South\n",
       "0           Males    50   142    131     70\n",
       "1         Females   435  1523   1356    750"
      ]
     },
     "execution_count": 41,
     "metadata": {},
     "output_type": "execute_result"
    }
   ],
   "source": [
    "d3 = pd.read_csv(\"BuyerRatio.csv\")\n",
    "d3"
   ]
  },
  {
   "cell_type": "code",
   "execution_count": null,
   "id": "90d2cfc0",
   "metadata": {},
   "outputs": [],
   "source": [
    "#lets us assume the H0 and H1\n",
    "H0 : All proportions are equal\n",
    "H1 : Not all proportins are equal"
   ]
  },
  {
   "cell_type": "code",
   "execution_count": null,
   "id": "63b29271",
   "metadata": {},
   "outputs": [],
   "source": [
    "#so that we have to use the  chi_square test"
   ]
  },
  {
   "cell_type": "code",
   "execution_count": 43,
   "id": "fef1b86b",
   "metadata": {},
   "outputs": [],
   "source": [
    "from scipy import stats\n",
    "from scipy.stats import norm\n",
    "from scipy.stats import chi2_contingency"
   ]
  },
  {
   "cell_type": "code",
   "execution_count": 56,
   "id": "f261f8f7",
   "metadata": {},
   "outputs": [
    {
     "data": {
      "text/plain": [
       "array([[  50,  142,  131,   70],\n",
       "       [ 435, 1523, 1356,  750]])"
      ]
     },
     "execution_count": 56,
     "metadata": {},
     "output_type": "execute_result"
    }
   ],
   "source": [
    "# Make dimensional array\n",
    "table =np.array([[50,142,131,70],[435,1523,1356,750]])\n",
    "table"
   ]
  },
  {
   "cell_type": "code",
   "execution_count": 57,
   "id": "f89992a1",
   "metadata": {},
   "outputs": [
    {
     "data": {
      "text/plain": [
       "(1.595945538661058,\n",
       " 0.6603094907091882,\n",
       " 3,\n",
       " array([[  42.76531299,  146.81287862,  131.11756787,   72.30424052],\n",
       "        [ 442.23468701, 1518.18712138, 1355.88243213,  747.69575948]]))"
      ]
     },
     "execution_count": 57,
     "metadata": {},
     "output_type": "execute_result"
    }
   ],
   "source": [
    "# Chi2 contengency independence test\n",
    "output =chi2_contingency(table)\n",
    "output"
   ]
  },
  {
   "cell_type": "code",
   "execution_count": 49,
   "id": "c8d7ff1a",
   "metadata": {},
   "outputs": [],
   "source": [
    "# o/p is (Chi2 stats value, p_value, df, expected observation)"
   ]
  },
  {
   "cell_type": "code",
   "execution_count": 54,
   "id": "679c4a2f",
   "metadata": {},
   "outputs": [],
   "source": [
    "pvalues = 0.66030949"
   ]
  },
  {
   "cell_type": "code",
   "execution_count": null,
   "id": "6c206f14",
   "metadata": {},
   "outputs": [],
   "source": []
  },
  {
   "cell_type": "code",
   "execution_count": 58,
   "id": "199bae56",
   "metadata": {},
   "outputs": [],
   "source": [
    "\n",
    "#conclusion : H1 : All proportions are not equal"
   ]
  },
  {
   "cell_type": "markdown",
   "id": "505011c2",
   "metadata": {},
   "source": [
    "# 4question\n",
    "     TeleCall uses 4 centers around the globe to process customer order forms. They audit a certain %  of the customer order forms. Any error in order form renders it defective and has to be reworked before processing.  The manager wants to check whether the defective %  varies by centre. Please analyze the data at 5% significance level and help the manager draw appropriate inferences\n"
   ]
  },
  {
   "cell_type": "code",
   "execution_count": 59,
   "id": "3d7ac77c",
   "metadata": {},
   "outputs": [
    {
     "data": {
      "text/html": [
       "<div>\n",
       "<style scoped>\n",
       "    .dataframe tbody tr th:only-of-type {\n",
       "        vertical-align: middle;\n",
       "    }\n",
       "\n",
       "    .dataframe tbody tr th {\n",
       "        vertical-align: top;\n",
       "    }\n",
       "\n",
       "    .dataframe thead th {\n",
       "        text-align: right;\n",
       "    }\n",
       "</style>\n",
       "<table border=\"1\" class=\"dataframe\">\n",
       "  <thead>\n",
       "    <tr style=\"text-align: right;\">\n",
       "      <th></th>\n",
       "      <th>Phillippines</th>\n",
       "      <th>Indonesia</th>\n",
       "      <th>Malta</th>\n",
       "      <th>India</th>\n",
       "    </tr>\n",
       "  </thead>\n",
       "  <tbody>\n",
       "    <tr>\n",
       "      <th>0</th>\n",
       "      <td>Error Free</td>\n",
       "      <td>Error Free</td>\n",
       "      <td>Defective</td>\n",
       "      <td>Error Free</td>\n",
       "    </tr>\n",
       "    <tr>\n",
       "      <th>1</th>\n",
       "      <td>Error Free</td>\n",
       "      <td>Error Free</td>\n",
       "      <td>Error Free</td>\n",
       "      <td>Defective</td>\n",
       "    </tr>\n",
       "    <tr>\n",
       "      <th>2</th>\n",
       "      <td>Error Free</td>\n",
       "      <td>Defective</td>\n",
       "      <td>Defective</td>\n",
       "      <td>Error Free</td>\n",
       "    </tr>\n",
       "    <tr>\n",
       "      <th>3</th>\n",
       "      <td>Error Free</td>\n",
       "      <td>Error Free</td>\n",
       "      <td>Error Free</td>\n",
       "      <td>Error Free</td>\n",
       "    </tr>\n",
       "    <tr>\n",
       "      <th>4</th>\n",
       "      <td>Error Free</td>\n",
       "      <td>Error Free</td>\n",
       "      <td>Defective</td>\n",
       "      <td>Error Free</td>\n",
       "    </tr>\n",
       "    <tr>\n",
       "      <th>...</th>\n",
       "      <td>...</td>\n",
       "      <td>...</td>\n",
       "      <td>...</td>\n",
       "      <td>...</td>\n",
       "    </tr>\n",
       "    <tr>\n",
       "      <th>295</th>\n",
       "      <td>Error Free</td>\n",
       "      <td>Error Free</td>\n",
       "      <td>Error Free</td>\n",
       "      <td>Error Free</td>\n",
       "    </tr>\n",
       "    <tr>\n",
       "      <th>296</th>\n",
       "      <td>Error Free</td>\n",
       "      <td>Error Free</td>\n",
       "      <td>Error Free</td>\n",
       "      <td>Error Free</td>\n",
       "    </tr>\n",
       "    <tr>\n",
       "      <th>297</th>\n",
       "      <td>Error Free</td>\n",
       "      <td>Error Free</td>\n",
       "      <td>Defective</td>\n",
       "      <td>Error Free</td>\n",
       "    </tr>\n",
       "    <tr>\n",
       "      <th>298</th>\n",
       "      <td>Error Free</td>\n",
       "      <td>Error Free</td>\n",
       "      <td>Error Free</td>\n",
       "      <td>Error Free</td>\n",
       "    </tr>\n",
       "    <tr>\n",
       "      <th>299</th>\n",
       "      <td>Error Free</td>\n",
       "      <td>Defective</td>\n",
       "      <td>Defective</td>\n",
       "      <td>Error Free</td>\n",
       "    </tr>\n",
       "  </tbody>\n",
       "</table>\n",
       "<p>300 rows × 4 columns</p>\n",
       "</div>"
      ],
      "text/plain": [
       "    Phillippines   Indonesia       Malta       India\n",
       "0     Error Free  Error Free   Defective  Error Free\n",
       "1     Error Free  Error Free  Error Free   Defective\n",
       "2     Error Free   Defective   Defective  Error Free\n",
       "3     Error Free  Error Free  Error Free  Error Free\n",
       "4     Error Free  Error Free   Defective  Error Free\n",
       "..           ...         ...         ...         ...\n",
       "295   Error Free  Error Free  Error Free  Error Free\n",
       "296   Error Free  Error Free  Error Free  Error Free\n",
       "297   Error Free  Error Free   Defective  Error Free\n",
       "298   Error Free  Error Free  Error Free  Error Free\n",
       "299   Error Free   Defective   Defective  Error Free\n",
       "\n",
       "[300 rows x 4 columns]"
      ]
     },
     "execution_count": 59,
     "metadata": {},
     "output_type": "execute_result"
    }
   ],
   "source": [
    "d4 = pd.read_csv(\"Costomer+OrderForm.csv\")\n",
    "d4"
   ]
  },
  {
   "cell_type": "code",
   "execution_count": null,
   "id": "27a39f33",
   "metadata": {},
   "outputs": [],
   "source": [
    "#let us assume that \n",
    "H0: Phillippines=Indonesia=Malta=India\n",
    "H1: different"
   ]
  },
  {
   "cell_type": "code",
   "execution_count": 60,
   "id": "f7a9381d",
   "metadata": {},
   "outputs": [
    {
     "data": {
      "text/plain": [
       "Error Free    271\n",
       "Defective      29\n",
       "Name: Phillippines, dtype: int64"
      ]
     },
     "execution_count": 60,
     "metadata": {},
     "output_type": "execute_result"
    }
   ],
   "source": [
    "d4.Phillippines.value_counts()"
   ]
  },
  {
   "cell_type": "code",
   "execution_count": 61,
   "id": "c6b058e3",
   "metadata": {},
   "outputs": [
    {
     "data": {
      "text/plain": [
       "Error Free    267\n",
       "Defective      33\n",
       "Name: Indonesia, dtype: int64"
      ]
     },
     "execution_count": 61,
     "metadata": {},
     "output_type": "execute_result"
    }
   ],
   "source": [
    "d4.Indonesia.value_counts()"
   ]
  },
  {
   "cell_type": "code",
   "execution_count": 62,
   "id": "04db70a2",
   "metadata": {},
   "outputs": [
    {
     "data": {
      "text/plain": [
       "Error Free    269\n",
       "Defective      31\n",
       "Name: Malta, dtype: int64"
      ]
     },
     "execution_count": 62,
     "metadata": {},
     "output_type": "execute_result"
    }
   ],
   "source": [
    "d4.Malta.value_counts()"
   ]
  },
  {
   "cell_type": "code",
   "execution_count": 63,
   "id": "01c9b45c",
   "metadata": {},
   "outputs": [
    {
     "data": {
      "text/plain": [
       "Error Free    280\n",
       "Defective      20\n",
       "Name: India, dtype: int64"
      ]
     },
     "execution_count": 63,
     "metadata": {},
     "output_type": "execute_result"
    }
   ],
   "source": [
    "d4.India.value_counts()"
   ]
  },
  {
   "cell_type": "code",
   "execution_count": null,
   "id": "5c1d6bf5",
   "metadata": {},
   "outputs": [],
   "source": [
    "#we have to put them in a table by using array operation using numpy"
   ]
  },
  {
   "cell_type": "code",
   "execution_count": 64,
   "id": "f3c82ea2",
   "metadata": {},
   "outputs": [],
   "source": [
    "import numpy as np"
   ]
  },
  {
   "cell_type": "code",
   "execution_count": 65,
   "id": "6675b6ad",
   "metadata": {},
   "outputs": [
    {
     "data": {
      "text/plain": [
       "array([[271, 267, 269, 280],\n",
       "       [ 29,  33,  31,  20]])"
      ]
     },
     "execution_count": 65,
     "metadata": {},
     "output_type": "execute_result"
    }
   ],
   "source": [
    "# Make a contingency table\n",
    "table=np.array([[271,267,269,280],[29,33,31,20]])\n",
    "table"
   ]
  },
  {
   "cell_type": "code",
   "execution_count": 66,
   "id": "b5e17197",
   "metadata": {},
   "outputs": [],
   "source": [
    "from scipy import stats\n",
    "from scipy.stats import norm\n",
    "from scipy.stats import chi2_contingency"
   ]
  },
  {
   "cell_type": "code",
   "execution_count": 67,
   "id": "3ba24d21",
   "metadata": {},
   "outputs": [
    {
     "data": {
      "text/plain": [
       "(3.858960685820355,\n",
       " 0.2771020991233135,\n",
       " 3,\n",
       " array([[271.75, 271.75, 271.75, 271.75],\n",
       "        [ 28.25,  28.25,  28.25,  28.25]]))"
      ]
     },
     "execution_count": 67,
     "metadata": {},
     "output_type": "execute_result"
    }
   ],
   "source": [
    "chi2_contingency(table)"
   ]
  },
  {
   "cell_type": "code",
   "execution_count": 69,
   "id": "5d179796",
   "metadata": {},
   "outputs": [],
   "source": [
    "pvalues = 0.277102099"
   ]
  },
  {
   "cell_type": "code",
   "execution_count": 72,
   "id": "82dab018",
   "metadata": {},
   "outputs": [
    {
     "name": "stdout",
     "output_type": "stream",
     "text": [
      "H1 is rejected and H0 is accepted\n"
     ]
    }
   ],
   "source": [
    "if pvalues == 0.05:\n",
    "    print(\"H0 is rejected and H1 is accepted\")\n",
    "else:\n",
    "    print(\"H1 is rejected and H0 is accepted\")"
   ]
  },
  {
   "cell_type": "code",
   "execution_count": null,
   "id": "03fa45ac",
   "metadata": {},
   "outputs": [],
   "source": [
    "#null hypothesis is accepted(H0)"
   ]
  },
  {
   "cell_type": "code",
   "execution_count": null,
   "id": "7d8bc382",
   "metadata": {},
   "outputs": [],
   "source": []
  },
  {
   "cell_type": "code",
   "execution_count": null,
   "id": "bfa65134",
   "metadata": {},
   "outputs": [],
   "source": []
  },
  {
   "cell_type": "code",
   "execution_count": null,
   "id": "bb90f0b2",
   "metadata": {},
   "outputs": [],
   "source": []
  },
  {
   "cell_type": "code",
   "execution_count": null,
   "id": "5fa98be0",
   "metadata": {},
   "outputs": [],
   "source": []
  },
  {
   "cell_type": "code",
   "execution_count": null,
   "id": "37f96444",
   "metadata": {},
   "outputs": [],
   "source": []
  }
 ],
 "metadata": {
  "kernelspec": {
   "display_name": "Python 3 (ipykernel)",
   "language": "python",
   "name": "python3"
  },
  "language_info": {
   "codemirror_mode": {
    "name": "ipython",
    "version": 3
   },
   "file_extension": ".py",
   "mimetype": "text/x-python",
   "name": "python",
   "nbconvert_exporter": "python",
   "pygments_lexer": "ipython3",
   "version": "3.9.7"
  }
 },
 "nbformat": 4,
 "nbformat_minor": 5
}
